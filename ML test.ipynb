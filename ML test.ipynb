{
 "cells": [
  {
   "cell_type": "code",
   "execution_count": 1,
   "metadata": {
    "collapsed": true
   },
   "outputs": [],
   "source": [
    "import csv\n",
    "import numpy as np\n",
    "import sklearn.ensemble\n",
    "from sklearn import tree\n",
    "from sklearn.naive_bayes import GaussianNB\n",
    "from sklearn.linear_model import LogisticRegression\n",
    "from sklearn.metrics import accuracy_score\n",
    "from matplotlib import pyplot as plt\n",
    "import matplotlib.patches as mpatches\n",
    "from matplotlib.font_manager import FontProperties\n",
    "\n",
    "#Setting up the dictionary\n",
    "posDictionary = {}\n",
    "posDictionary['ADJ'] = 0\n",
    "posDictionary['ADP'] = 1\n",
    "posDictionary['ADV'] = 2\n",
    "posDictionary['AUX'] = 3\n",
    "posDictionary['CCONJ'] = 4\n",
    "posDictionary['DET'] = 5\n",
    "posDictionary['INTJ'] = 6\n",
    "posDictionary['NOUN'] = 7\n",
    "posDictionary['NUM'] = 8\n",
    "posDictionary['PART'] = 9\n",
    "posDictionary['PRON'] = 10\n",
    "posDictionary['PROPN'] = 11\n",
    "posDictionary['PUNCT'] = 12\n",
    "posDictionary['SCONJ'] = 13\n",
    "posDictionary['SYM'] = 14\n",
    "posDictionary['VERB'] = 15\n",
    "posDictionary['X'] = 16\n",
    "\n",
    "reverseDictionary = {}\n",
    "reverseDictionary['0'] = 'ADJ'\n",
    "reverseDictionary['1'] = 'ADP'\n",
    "reverseDictionary['2'] = 'ADV'\n",
    "reverseDictionary['3'] = 'AUX'\n",
    "reverseDictionary['4'] = 'CCONJ'\n",
    "reverseDictionary['5'] = 'DET'\n",
    "reverseDictionary['6'] = 'INTJ'\n",
    "reverseDictionary['7'] = 'NOUN'\n",
    "reverseDictionary['8'] = 'NUM'\n",
    "reverseDictionary['9'] = 'PART'\n",
    "reverseDictionary['10'] = 'PRON'\n",
    "reverseDictionary['11'] = 'PROPN'\n",
    "reverseDictionary['12'] = 'PUNCT'\n",
    "reverseDictionary['13'] = 'SCONJ'\n",
    "reverseDictionary['14'] = 'SYM'\n",
    "reverseDictionary['15'] = 'VERB'\n",
    "reverseDictionary['16'] = 'X'\n",
    "\n",
    "PREVTAG = 2\n",
    "NEXTTAG = 2\n",
    "\n",
    "#Opening the training set file \n",
    "with open(\"ud21_for_POS_TAGGING-180325-train.txt\", encoding=\"utf-8\") as f:\n",
    "    reader = csv.reader(f, delimiter=\"\\t\", quotechar=None)\n",
    "    wordsArray = list(reader)\n",
    "\n",
    "#Creating the Part of Speech list: dimension=367760x1\n",
    "posList=[]\n",
    "for i in range(0,len(wordsArray)):\n",
    "    posList.append(wordsArray[i][1])\n",
    "    \n",
    "#Creating the Part of Speech set: dimension=17x1\n",
    "posSet = sorted(set(posList))"
   ]
  },
  {
   "cell_type": "code",
   "execution_count": 2,
   "metadata": {
    "collapsed": true
   },
   "outputs": [],
   "source": [
    "#Opening the test set file \n",
    "with open(\"ud21_for_POS_TAGGING-180325-test.txt\", encoding=\"utf-8\") as f:\n",
    "    reader = csv.reader(f, delimiter=\"\\t\", quotechar=None)\n",
    "    wordsArrayTest = list(reader)\n",
    "\n",
    "#Creating the Part of Speech list: dimension=367760x1\n",
    "posListTest=[]\n",
    "for i in range(0,len(wordsArrayTest)):\n",
    "    posListTest.append(wordsArrayTest[i][1])\n",
    "    \n",
    "#SETTING UP TEST\n",
    "XTest = np.zeros((len(wordsArrayTest)-PREVTAG-NEXTTAG, PREVTAG + NEXTTAG))\n",
    "for i in range(PREVTAG, len(wordsArrayTest)-NEXTTAG):\n",
    "    for j in range(-PREVTAG, NEXTTAG+1):\n",
    "        if(j < 0):\n",
    "            XTest[i-PREVTAG][j+PREVTAG]=posDictionary[posListTest[i+j]]\n",
    "        if(j > 0):\n",
    "            XTest[i-PREVTAG][j+PREVTAG-1]=posDictionary[posListTest[i+j]]\n",
    "            \n",
    "YTest = posListTest[NEXTTAG:]\n",
    "YTest = YTest[:len(YTest)-PREVTAG]\n",
    "for i in range(0, len(YTest)):\n",
    "    YTest[i]=posDictionary[YTest[i]]"
   ]
  },
  {
   "cell_type": "code",
   "execution_count": 3,
   "metadata": {},
   "outputs": [
    {
     "name": "stdout",
     "output_type": "stream",
     "text": [
      "Pos tag frequency array\n",
      "[ 0.06176558  0.14495902  0.04305322  0.03860966  0.02626642  0.15330305\n",
      "  0.0036536   0.18672855  0.01540436  0.          0.04157204  0.05603831\n",
      "  0.10817616  0.01130641  0.01520687  0.08887133  0.00508542]\n",
      "Most frequent tag is NOUN with a frequence of 0.186728547447\n"
     ]
    }
   ],
   "source": [
    "#Checking most frequent PoS tag, to determine a baseline\n",
    "posTagFrequency = np.zeros(len(posSet))\n",
    "print(\"Pos tag frequency array\")\n",
    "for i in range(0, len(wordsArrayTest)):\n",
    "    posTagFrequency[posDictionary[wordsArrayTest[i][1]]] += 1\n",
    "posTagFrequency /= len(wordsArrayTest)\n",
    "print(posTagFrequency)\n",
    "\n",
    "print(\"Most frequent tag is \" + reverseDictionary[str(np.argmax(posTagFrequency))] + \" with a frequence of \" + str(np.amax(posTagFrequency)))"
   ]
  },
  {
   "cell_type": "code",
   "execution_count": 4,
   "metadata": {
    "collapsed": true
   },
   "outputs": [],
   "source": [
    "\n",
    "\n",
    "X =  np.zeros((len(wordsArray)-PREVTAG-NEXTTAG, PREVTAG + NEXTTAG))\n",
    "\n",
    "for i in range(PREVTAG, len(wordsArray)-NEXTTAG):\n",
    "    for j in range(-PREVTAG, NEXTTAG+1):\n",
    "        if(j < 0):\n",
    "            X[i-PREVTAG][j+PREVTAG]=posDictionary[posList[i+j]]\n",
    "        if(j > 0):\n",
    "            X[i-PREVTAG][j+PREVTAG-1]=posDictionary[posList[i+j]]\n",
    "            \n",
    "Y = np.zeros(len(wordsArray)-PREVTAG-NEXTTAG)\n",
    "\n",
    "for i in range(PREVTAG, len(wordsArray)-NEXTTAG):\n",
    "    Y[i-PREVTAG]= int(posDictionary[posList[i]])"
   ]
  },
  {
   "cell_type": "code",
   "execution_count": 20,
   "metadata": {
    "collapsed": true
   },
   "outputs": [],
   "source": [
    "#ADABOOST TRAINING\n",
    "adaBoostModel = sklearn.ensemble.AdaBoostClassifier()\n",
    "adaBoostModel = adaBoostModel.fit(X, Y)"
   ]
  },
  {
   "cell_type": "code",
   "execution_count": 6,
   "metadata": {
    "collapsed": true
   },
   "outputs": [],
   "source": [
    "#DECISION TREE\n",
    "treeClassifierModel = tree.DecisionTreeClassifier()\n",
    "treeClassifierModel = treeClassifierModel.fit(X, Y)\n",
    "\n"
   ]
  },
  {
   "cell_type": "code",
   "execution_count": null,
   "metadata": {},
   "outputs": [],
   "source": [
    "import graphviz\n",
    "featuresPos = [\"-2\", \"-1\", \"+1\", \"+2\"]\n",
    "dot_data = tree.export_graphviz(treeClassifierModel, out_file=None, \n",
    "                         feature_names=featuresPos,\n",
    "                         class_names=posSet, \n",
    "                         filled=True, rounded=True,  \n",
    "                         special_characters=True)  \n",
    "graph = graphviz.Source(dot_data)  \n",
    "graph"
   ]
  },
  {
   "cell_type": "code",
   "execution_count": 22,
   "metadata": {
    "collapsed": true
   },
   "outputs": [],
   "source": [
    "#GAUSSIAN NAIVE BAYES\n",
    "gnbModel = GaussianNB()\n",
    "gnbModel = gnbModel.fit(X, Y)"
   ]
  },
  {
   "cell_type": "code",
   "execution_count": 23,
   "metadata": {
    "collapsed": true
   },
   "outputs": [],
   "source": [
    "#LOGISTIC REGRESSION\n",
    "lrModel = LogisticRegression()\n",
    "lrModel = lrModel.fit(X,Y)"
   ]
  },
  {
   "cell_type": "code",
   "execution_count": 24,
   "metadata": {},
   "outputs": [
    {
     "name": "stdout",
     "output_type": "stream",
     "text": [
      "ADABOOST: \n",
      "model accuracy is 0.424543209877\n",
      "\n",
      "DECISION TREE: \n",
      "model accuracy is 0.584592592593\n",
      "\n",
      "GAUSSIAN NAIVE BAYES: \n",
      "model accuracy is 0.348641975309\n",
      "\n",
      "LOGISTIC REGRESSION: \n",
      "model accuracy is 0.214518518519\n",
      "\n"
     ]
    }
   ],
   "source": [
    "#ACCURACIES\n",
    "\n",
    "print(\"ADABOOST: \")\n",
    "print(\"model accuracy is \" + str(adaBoostModel.score(XTest, YTest)))\n",
    "print()\n",
    "\n",
    "print(\"DECISION TREE: \")\n",
    "print(\"model accuracy is \" + str(treeClassifierModel.score(XTest, YTest)))\n",
    "print()\n",
    "\n",
    "print(\"GAUSSIAN NAIVE BAYES: \")\n",
    "print(\"model accuracy is \" + str(gnbModel.score(XTest, YTest)))\n",
    "print()\n",
    "\n",
    "print(\"LOGISTIC REGRESSION: \")\n",
    "print(\"model accuracy is \" + str(lrModel.score(XTest, YTest)))\n",
    "print()"
   ]
  },
  {
   "cell_type": "code",
   "execution_count": 25,
   "metadata": {},
   "outputs": [
    {
     "data": {
      "image/png": "[encoded data removed]",
      "text/plain": [
       "<matplotlib.figure.Figure at 0x29fecbc9c18>"
      ]
     },
     "metadata": {},
     "output_type": "display_data"
    }
   ],
   "source": [
    "#Plotting\n",
    "wordsNumber = [1,2,3,4,5]\n",
    "colors =['m', 'c', 'g', 'orange']\n",
    "mlResults = [[0.448005135295, 0.424543209877, 0.422708415646, 0.412278968685, 0.404169136534], \n",
    "             [0.551451708473, 0.584691358025, 0.55496839194, 0.520893015904, 0.494022920371],\n",
    "             [0.338188820857, 0.348641975309, 0.348231924141, 0.346340017781, 0.34657182375],\n",
    "             [0.17410626111, 0.214518518519, 0.23365270644, 0.232737330831, 0.232760324047]]\n",
    "\n",
    "redLabel= mpatches.Patch(color='m', label='Ada boost')\n",
    "blueLabel= mpatches.Patch(color='c', label='Decision Tree')\n",
    "greenLabel= mpatches.Patch(color='green', label='Gaussian Naive Bayes')\n",
    "yellowLabel= mpatches.Patch(color='orange', label='Logistic regression')\n",
    "\n",
    "fig = plt.figure(figsize=(8, 4), dpi=100)\n",
    "for i in range(0, len(colors)):\n",
    "    plt.plot(wordsNumber, mlResults[i], '-o', linestyle='-', color=colors[i])\n",
    "\n",
    "plt.legend(handles=[redLabel, blueLabel, greenLabel, yellowLabel], loc=(1.04, 0.64), prop={'size': 12})\n",
    "plt.show()"
   ]
  }
 ],
 "metadata": {
  "kernelspec": {
   "display_name": "Python 3",
   "language": "python",
   "name": "python3"
  },
  "language_info": {
   "codemirror_mode": {
    "name": "ipython",
    "version": 3
   },
   "file_extension": ".py",
   "mimetype": "text/x-python",
   "name": "python",
   "nbconvert_exporter": "python",
   "pygments_lexer": "ipython3",
   "version": "3.5.4"
  }
 },
 "nbformat": 4,
 "nbformat_minor": 2
}
